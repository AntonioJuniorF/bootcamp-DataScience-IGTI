{
 "cells": [
  {
   "cell_type": "code",
   "execution_count": 1,
   "metadata": {},
   "outputs": [],
   "source": [
    "import pymongo \n",
    "from pymongo import MongoClient\n",
    "import numpy as np"
   ]
  },
  {
   "cell_type": "markdown",
   "metadata": {},
   "source": [
    "# Listando o meu banco de dados"
   ]
  },
  {
   "cell_type": "code",
   "execution_count": 2,
   "metadata": {},
   "outputs": [],
   "source": [
    "cliente = MongoClient('mongodb://localhost:27017/') # conectando com o meu banco de dados"
   ]
  },
  {
   "cell_type": "code",
   "execution_count": 3,
   "metadata": {},
   "outputs": [
    {
     "data": {
      "text/plain": [
       "['Vendas', 'VideoGames', 'admin', 'config', 'local', 'test_database']"
      ]
     },
     "execution_count": 3,
     "metadata": {},
     "output_type": "execute_result"
    }
   ],
   "source": [
    "# verificando se a coneção deu certo \n",
    "cliente.list_database_names()"
   ]
  },
  {
   "cell_type": "code",
   "execution_count": 4,
   "metadata": {},
   "outputs": [],
   "source": [
    "# importando o meu banco de dados de interece\n",
    "Games = cliente.VideoGames"
   ]
  },
  {
   "cell_type": "code",
   "execution_count": 5,
   "metadata": {},
   "outputs": [
    {
     "data": {
      "text/plain": [
       "Database(MongoClient(host=['localhost:27017'], document_class=dict, tz_aware=False, connect=True), 'VideoGames')"
      ]
     },
     "execution_count": 5,
     "metadata": {},
     "output_type": "execute_result"
    }
   ],
   "source": [
    "Games"
   ]
  },
  {
   "cell_type": "code",
   "execution_count": 6,
   "metadata": {},
   "outputs": [
    {
     "data": {
      "text/plain": [
       "['test_collection', 'collection']"
      ]
     },
     "execution_count": 6,
     "metadata": {},
     "output_type": "execute_result"
    }
   ],
   "source": [
    "# lista a coleçao \n",
    "Games.list_collection_names() # so tem um arquivo"
   ]
  },
  {
   "cell_type": "code",
   "execution_count": 7,
   "metadata": {},
   "outputs": [],
   "source": [
    "db = Games.test_collection"
   ]
  },
  {
   "cell_type": "markdown",
   "metadata": {},
   "source": [
    "# Respondendo os exercicios"
   ]
  },
  {
   "cell_type": "markdown",
   "metadata": {},
   "source": [
    "### 7)"
   ]
  },
  {
   "cell_type": "code",
   "execution_count": 98,
   "metadata": {},
   "outputs": [
    {
     "data": {
      "text/plain": [
       "'Grand Theft Auto: San Andreas'"
      ]
     },
     "execution_count": 98,
     "metadata": {},
     "output_type": "execute_result"
    }
   ],
   "source": [
    "db.find({\"Platform\":'PS2'}).sort(\"Global_Sales\",-1)[0]['Name']"
   ]
  },
  {
   "cell_type": "markdown",
   "metadata": {},
   "source": [
    "### 8)"
   ]
  },
  {
   "cell_type": "code",
   "execution_count": 136,
   "metadata": {},
   "outputs": [],
   "source": [
    "quant = db.count # quantidade de arquivos"
   ]
  },
  {
   "cell_type": "code",
   "execution_count": 137,
   "metadata": {},
   "outputs": [
    {
     "name": "stderr",
     "output_type": "stream",
     "text": [
      "<ipython-input-137-cb325138ce3d>:3: DeprecationWarning: count is deprecated. Use estimated_document_count or count_documents instead. Please note that $where must be replaced by $expr, $near must be replaced by $geoWithin with $center, and $nearSphere must be replaced by $geoWithin with $centerSphere\n",
      "  for i in range(quant()):\n"
     ]
    }
   ],
   "source": [
    "list_Eu_Sales = []\n",
    "\n",
    "for i in range(quant()):\n",
    "    list_Eu_Sales.append(db.find()[i]['EU_Sales'])"
   ]
  },
  {
   "cell_type": "code",
   "execution_count": 138,
   "metadata": {},
   "outputs": [
    {
     "data": {
      "text/plain": [
       "2"
      ]
     },
     "execution_count": 138,
     "metadata": {},
     "output_type": "execute_result"
    }
   ],
   "source": [
    "np.argsort(np.array(list_Eu_Sales))[-2]"
   ]
  },
  {
   "cell_type": "code",
   "execution_count": 139,
   "metadata": {},
   "outputs": [
    {
     "data": {
      "text/plain": [
       "3"
      ]
     },
     "execution_count": 139,
     "metadata": {},
     "output_type": "execute_result"
    }
   ],
   "source": [
    "db.find()[2]['Rank'] # resultado do numero 7"
   ]
  },
  {
   "cell_type": "markdown",
   "metadata": {},
   "source": [
    "### 9)"
   ]
  },
  {
   "cell_type": "code",
   "execution_count": 141,
   "metadata": {},
   "outputs": [
    {
     "data": {
      "text/plain": [
       "'Sora no Otoshimono: DokiDoki Summer Vacation'"
      ]
     },
     "execution_count": 141,
     "metadata": {},
     "output_type": "execute_result"
    }
   ],
   "source": [
    "db.find({\"Year\":2010}).sort(\"Global_Sales\",1)[0]['Name']"
   ]
  },
  {
   "cell_type": "markdown",
   "metadata": {},
   "source": [
    "### 10)"
   ]
  },
  {
   "cell_type": "code",
   "execution_count": 142,
   "metadata": {},
   "outputs": [
    {
     "data": {
      "text/plain": [
       "'Wii'"
      ]
     },
     "execution_count": 142,
     "metadata": {},
     "output_type": "execute_result"
    }
   ],
   "source": [
    "db.find({\"Year\":2008}).sort(\"Global_Sales\",-1)[0]['Platform']"
   ]
  },
  {
   "cell_type": "markdown",
   "metadata": {},
   "source": [
    "### 11)"
   ]
  },
  {
   "cell_type": "code",
   "execution_count": 148,
   "metadata": {},
   "outputs": [
    {
     "data": {
      "text/plain": [
       "'Call of Duty: Black Ops 3'"
      ]
     },
     "execution_count": 148,
     "metadata": {},
     "output_type": "execute_result"
    }
   ],
   "source": [
    "db.find_one({\"Platform\":'PS4'})['Name']"
   ]
  },
  {
   "cell_type": "markdown",
   "metadata": {},
   "source": [
    "### 12)"
   ]
  },
  {
   "cell_type": "code",
   "execution_count": 149,
   "metadata": {},
   "outputs": [
    {
     "name": "stderr",
     "output_type": "stream",
     "text": [
      "<ipython-input-149-e465f1800c5b>:1: DeprecationWarning: count is deprecated. Use Collection.count_documents instead.\n",
      "  db.find({\"Platform\":'X360'}).count()\n"
     ]
    },
    {
     "data": {
      "text/plain": [
       "1265"
      ]
     },
     "execution_count": 149,
     "metadata": {},
     "output_type": "execute_result"
    }
   ],
   "source": [
    "db.find({\"Platform\":'X360'}).count()"
   ]
  },
  {
   "cell_type": "markdown",
   "metadata": {},
   "source": [
    "### 13) "
   ]
  },
  {
   "cell_type": "code",
   "execution_count": 152,
   "metadata": {},
   "outputs": [
    {
     "data": {
      "text/plain": [
       "'3DS'"
      ]
     },
     "execution_count": 152,
     "metadata": {},
     "output_type": "execute_result"
    }
   ],
   "source": [
    "db.find({\"Year\":2015}).sort(\"JP_Sales\",-1)[0]['Platform']"
   ]
  },
  {
   "cell_type": "markdown",
   "metadata": {},
   "source": [
    "### 14) "
   ]
  },
  {
   "cell_type": "code",
   "execution_count": 190,
   "metadata": {},
   "outputs": [
    {
     "name": "stdout",
     "output_type": "stream",
     "text": [
      "Call of Duty: Black Ops 3\n",
      "Call of Duty: Advanced Warfare\n",
      "Grand Theft Auto V\n",
      "Halo 5: Guardians\n",
      "Fallout 4\n",
      "Star Wars Battlefront (2015)\n",
      "Assassin's Creed: Unity\n",
      "Destiny\n",
      "FIFA 16\n",
      "Halo: The Master Chief Collection\n",
      "Gears of War: Ultimate Edition\n",
      "Titanfall\n",
      "Call of Duty: Ghosts\n",
      "Minecraft\n",
      "Madden NFL 16\n",
      "NBA 2K16\n",
      "Assassin's Creed IV: Black Flag\n",
      "Forza Motorsport 5\n",
      "FIFA 15\n",
      "Tom Clancy's The Division\n",
      "Battlefield 4\n",
      "Forza Motorsport 6\n",
      "NBA 2K15\n",
      "Far Cry 4\n",
      "Watch Dogs\n",
      "Dead Rising 3\n",
      "FIFA 17\n",
      "Madden NFL 15\n",
      "Batman: Arkham Knight\n",
      "Forza Horizon 2\n",
      "Ryse: Son of Rome\n",
      "Mortal Kombat X\n",
      "Middle-Earth: Shadow of Mordor\n",
      "Rise of the Tomb Raider\n",
      "Tom Clancy's Rainbow Six: Siege\n",
      "Assassin's Creed Syndicate\n",
      "The Elder Scrolls Online\n",
      "The Witcher 3: Wild Hunt\n",
      "Battlefield: Hardline\n",
      "FIFA 14\n",
      "Destiny: The Taken King\n",
      "Sunset Overdrive\n",
      "LEGO Marvel Super Heroes\n",
      "Dragon Age: Inquisition\n",
      "Just Cause 3\n",
      "NBA 2K14\n",
      "Far Cry: Primal\n",
      "Overwatch\n",
      "Madden NFL 17\n",
      "Dying Light\n",
      "Madden NFL 25\n",
      "Rare Replay\n",
      "Metal Gear Solid V: The Phantom Pain\n",
      "Plants vs. Zombies: Garden Warfare\n",
      "Doom (2016)\n",
      "Need for Speed (2015)\n",
      "Need for Speed Rivals\n",
      "Wolfenstein: The New Order\n",
      "The Evil Within\n",
      "Diablo III\n",
      "NBA 2K17\n",
      "The Crew\n",
      "LEGO Jurassic World\n",
      "Evolve\n",
      "Tomb Raider (2013)\n",
      "Kinect Sports Rivals\n",
      "WWE 2K16\n",
      "WWE 2K15\n",
      "Minecraft: Story Mode\n",
      "Just Dance 2015\n",
      "The LEGO Movie Videogame\n",
      "Quantum Break\n",
      "Guitar Hero Live\n",
      "Alien: Isolation\n",
      "NHL 16\n",
      "EA Sports UFC\n",
      "Mad Max (2015)\n",
      "Thief (2014)\n",
      "Just Dance 2014\n",
      "Plants vs. Zombies: Garden Warfare 2\n",
      "Rock Band 4\n",
      "Lego Batman 3: Beyond Gotham\n",
      "Disney Infinity 2.0: Marvel Super Heroes\n",
      "Borderlands: The Handsome Collection\n",
      "Rocksmith 2014\n",
      "NHL 15\n",
      "EA Sports UFC 2\n",
      "Forza Horizon 3\n",
      "LEGO Dimensions\n",
      "Dark Souls III\n",
      "Skylanders: Trap Team\n",
      "Rayman Legends\n",
      "Zoo Tycoon (2013)\n",
      "Sniper Elite 3\n",
      "LEGO Marvel's Avengers\n",
      "Just Dance 2016\n",
      "Dragon Ball: XenoVerse\n",
      "Metro: Last Light\n",
      "Disney Infinity 3.0\n",
      "Skylanders SWAP Force\n",
      "Metal Gear Solid V: Ground Zeroes\n",
      "Naruto Shippuden: Ultimate Ninja Storm 4\n",
      "LEGO The Hobbit\n",
      "Rory McIlroy PGA Tour\n",
      "Final Fantasy Type-0\n",
      "Trials Fusion\n",
      "F1 2015\n",
      "Lego Star Wars: The Force Awakens\n",
      "Zumba Fitness: World Party\n",
      "Skylanders: SuperChargers\n",
      "Project CARS\n",
      "Dark Souls II\n",
      "Lords of the Fallen\n",
      "The Amazing Spider-Man 2 (2014)\n",
      "NBA Live 15\n",
      "State of Decay\n",
      "Saints Row IV\n",
      "Sleeping Dogs\n",
      "NBA Live 14\n",
      "Farming Simulator 2015\n",
      "Fighter Within\n",
      "Dance Central: Spotlight\n",
      "Shape Up\n",
      "Project Spark\n",
      "Payday 2\n",
      "Murdered: Soul Suspect\n",
      "Angry Birds Star Wars\n",
      "The Walking Dead: Season One\n",
      "NHL 17\n",
      "Wolfenstein: The Old Blood\n",
      "Fantasia: Music Evolved\n",
      "Mirror's Edge Catalyst\n",
      "Deus Ex: Mankind Divided\n",
      "Dishonored\n",
      "The Walking Dead: Season Two\n",
      "Pro Evolution Soccer 2015\n",
      "Transformers: Devastation\n",
      "DmC: Devil May Cry\n",
      "Hasbro Family Fun Pack\n",
      "Battleborn\n",
      "Homefront: The Revolution\n",
      "Rocket League\n",
      "Deadpool\n",
      "Tony Hawk's Pro Skater 5\n",
      "DiRT Rally\n",
      "Life is Strange\n",
      "Transformer: Rise of the Dark Spark\n",
      "Zombie Army Trilogy\n",
      "Pro Evolution Soccer 2016\n",
      "NBA Live 16\n",
      "Ride\n",
      "Resident Evil: Revelations 2\n",
      "ReCore\n",
      "F1 2016 (Codemasters)\n",
      "Rugby 15\n",
      "Dead or Alive 5\n",
      "Sherlock Holmes: Crimes & Punishments\n",
      "BioShock The Collection\n",
      "Resident Evil Zero\n",
      "The Wolf Among Us\n",
      "Dynasty Warriors 8: Empires\n",
      "Divinity: Original Sin\n",
      "Just Dance: Disney Party 2\n",
      "Killer Instinct (2013)\n",
      "BlazBlue: Chrono Phantasma Extend\n",
      "Darksiders II\n",
      "TrackMania Turbo\n",
      "Toy Soldiers: War Chest\n",
      "Adventure Time: Finn & Jake Investigations\n",
      "MXGP 2\n",
      "Bladestorm: Nightmare\n",
      "Wasteland 2\n",
      "Dead Island Definitive Collection\n",
      "R.B.I. Baseball 2016\n",
      "7 Days to Die\n",
      "One Piece: Burning Blood\n",
      "Terraria\n",
      "Brothers: A Tale of Two Sons\n",
      "Song of the Deep\n",
      "Don Bradman Cricket 14\n",
      "Resident Evil 6\n",
      "Warriors Orochi 3\n",
      "Destiny: The Collection\n",
      "Teenage Mutant Ninja Turtles: Mutants in Manhattan\n",
      "MotoGP 15\n",
      "Game of Thrones (Telltale)\n",
      "Attack on Titan (KOEI)\n",
      "Pro Evolution Soccer 2017\n",
      "The Golf Club\n",
      "Ghostbusters (2016)\n",
      "NASCAR Heat Evolution\n",
      "Rugby World Cup 2015\n",
      "Valentino Rossi: The Game\n",
      "The Technomancer\n",
      "The Crew: Wild Run\n",
      "Back to the Future: The Game\n",
      "Arslan: The Warriors of Legend\n",
      "MX vs. ATV Supercross Encore\n",
      "XCOM 2\n",
      "WRC 5: FIA World Rally Championship\n",
      "Psycho-Pass\n",
      "Carmageddon: Max Damage\n",
      "Broken Sword 5: The Serpent's Curse\n",
      "Assetto Corsa\n",
      "Goat Simulator\n",
      "Assassin's Creed Chronicles\n",
      "Rugby League Live 3\n",
      "Rabbids Invasion: The Interactive TV Show\n",
      "Sébastien Loeb Rally Evo\n",
      "Hitman (2016)\n",
      "Mighty No. 9\n",
      "Resident Evil 4 HD\n",
      "Rugby Challenge 3\n"
     ]
    },
    {
     "ename": "IndexError",
     "evalue": "no such item for Cursor instance",
     "output_type": "error",
     "traceback": [
      "\u001b[0;31m---------------------------------------------------------------------------\u001b[0m",
      "\u001b[0;31mIndexError\u001b[0m                                Traceback (most recent call last)",
      "\u001b[0;32m<ipython-input-190-5d2603be4d40>\u001b[0m in \u001b[0;36m<module>\u001b[0;34m\u001b[0m\n\u001b[1;32m      1\u001b[0m \u001b[0;32mfor\u001b[0m \u001b[0mi\u001b[0m \u001b[0;32min\u001b[0m \u001b[0mrange\u001b[0m\u001b[0;34m(\u001b[0m\u001b[0;36m217\u001b[0m\u001b[0;34m)\u001b[0m\u001b[0;34m:\u001b[0m\u001b[0;34m\u001b[0m\u001b[0;34m\u001b[0m\u001b[0m\n\u001b[0;32m----> 2\u001b[0;31m     \u001b[0mprint\u001b[0m\u001b[0;34m(\u001b[0m\u001b[0mdb\u001b[0m\u001b[0;34m.\u001b[0m\u001b[0mfind\u001b[0m\u001b[0;34m(\u001b[0m\u001b[0;34m{\u001b[0m\u001b[0;34m\"Platform\"\u001b[0m\u001b[0;34m:\u001b[0m\u001b[0;34m'XOne'\u001b[0m\u001b[0;34m}\u001b[0m\u001b[0;34m)\u001b[0m\u001b[0;34m[\u001b[0m\u001b[0mi\u001b[0m\u001b[0;34m]\u001b[0m\u001b[0;34m[\u001b[0m\u001b[0;34m'Name'\u001b[0m\u001b[0;34m]\u001b[0m\u001b[0;34m)\u001b[0m\u001b[0;34m\u001b[0m\u001b[0;34m\u001b[0m\u001b[0m\n\u001b[0m",
      "\u001b[0;32m~/anaconda3/lib/python3.8/site-packages/pymongo/cursor.py\u001b[0m in \u001b[0;36m__getitem__\u001b[0;34m(self, index)\u001b[0m\n\u001b[1;32m    647\u001b[0m             \u001b[0;32mfor\u001b[0m \u001b[0mdoc\u001b[0m \u001b[0;32min\u001b[0m \u001b[0mclone\u001b[0m\u001b[0;34m:\u001b[0m\u001b[0;34m\u001b[0m\u001b[0;34m\u001b[0m\u001b[0m\n\u001b[1;32m    648\u001b[0m                 \u001b[0;32mreturn\u001b[0m \u001b[0mdoc\u001b[0m\u001b[0;34m\u001b[0m\u001b[0;34m\u001b[0m\u001b[0m\n\u001b[0;32m--> 649\u001b[0;31m             \u001b[0;32mraise\u001b[0m \u001b[0mIndexError\u001b[0m\u001b[0;34m(\u001b[0m\u001b[0;34m\"no such item for Cursor instance\"\u001b[0m\u001b[0;34m)\u001b[0m\u001b[0;34m\u001b[0m\u001b[0;34m\u001b[0m\u001b[0m\n\u001b[0m\u001b[1;32m    650\u001b[0m         raise TypeError(\"index %r cannot be applied to Cursor \"\n\u001b[1;32m    651\u001b[0m                         \"instances\" % index)\n",
      "\u001b[0;31mIndexError\u001b[0m: no such item for Cursor instance"
     ]
    }
   ],
   "source": [
    "for i in range(217):\n",
    "    print(db.find({\"Platform\":'XOne'})[i]['Name'])"
   ]
  },
  {
   "cell_type": "code",
   "execution_count": 193,
   "metadata": {},
   "outputs": [
    {
     "data": {
      "text/plain": [
       "1607"
      ]
     },
     "execution_count": 193,
     "metadata": {},
     "output_type": "execute_result"
    }
   ],
   "source": [
    "db.find({\"Platform\":'XOne',\"Name\":'The Witcher 3: Wild Hunt'})[0]['Rank']"
   ]
  },
  {
   "cell_type": "markdown",
   "metadata": {},
   "source": [
    "### 15)"
   ]
  },
  {
   "cell_type": "code",
   "execution_count": 194,
   "metadata": {},
   "outputs": [],
   "source": [
    "valor = {\"$get\":{\"Global_Sales\":2}}"
   ]
  },
  {
   "cell_type": "code",
   "execution_count": 209,
   "metadata": {},
   "outputs": [
    {
     "name": "stderr",
     "output_type": "stream",
     "text": [
      "<ipython-input-209-08e118d7dc91>:1: DeprecationWarning: count is deprecated. Use Collection.count_documents instead.\n",
      "  db.find({\"Global_Sales\" : {\"$gte\" : 2}}).count()\n"
     ]
    },
    {
     "data": {
      "text/plain": [
       "851"
      ]
     },
     "execution_count": 209,
     "metadata": {},
     "output_type": "execute_result"
    }
   ],
   "source": [
    "db.find({\"Global_Sales\" : {\"$gte\" : 2}}).count()"
   ]
  }
 ],
 "metadata": {
  "kernelspec": {
   "display_name": "Python 3",
   "language": "python",
   "name": "python3"
  },
  "language_info": {
   "codemirror_mode": {
    "name": "ipython",
    "version": 3
   },
   "file_extension": ".py",
   "mimetype": "text/x-python",
   "name": "python",
   "nbconvert_exporter": "python",
   "pygments_lexer": "ipython3",
   "version": "3.8.3"
  }
 },
 "nbformat": 4,
 "nbformat_minor": 4
}
