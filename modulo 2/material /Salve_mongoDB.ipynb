{
 "cells": [
  {
   "cell_type": "code",
   "execution_count": 1,
   "metadata": {},
   "outputs": [],
   "source": [
    "from pymongo import MongoClient"
   ]
  },
  {
   "cell_type": "markdown",
   "metadata": {},
   "source": [
    "# Lendo arquivo json"
   ]
  },
  {
   "cell_type": "code",
   "execution_count": 2,
   "metadata": {},
   "outputs": [],
   "source": [
    "def salvarArquivoFormatoDict(nomeArquivo,objetoDict):\n",
    "    import json\n",
    "    with open(nomeArquivo,'w') as fileout:    \n",
    "        #How to save to file a dictionary with utf-8 strings correctly\n",
    "        #https://stackoverflow.com/questions/10231568/how-to-save-to-file-a-dictionary-with-utf-8-strings-correctly\n",
    "        json.dump(objetoDict,fileout,indent=4,ensure_ascii=False)\n",
    "\n",
    "def lerArquivoEmFormatoJson(nomeArquivo):\n",
    "    import json\n",
    "    with open(nomeArquivo,'r') as fileread:\n",
    "        #resolve o problema de nomes nomes    \n",
    "        arquivo = json.load(fileread)    \n",
    "    return arquivo"
   ]
  },
  {
   "cell_type": "code",
   "execution_count": 3,
   "metadata": {},
   "outputs": [],
   "source": [
    "caminhoArquivo = 'videogame_sales_mongo.json'"
   ]
  },
  {
   "cell_type": "code",
   "execution_count": 4,
   "metadata": {},
   "outputs": [],
   "source": [
    "listaVideogameSales = lerArquivoEmFormatoJson(caminhoArquivo)"
   ]
  },
  {
   "cell_type": "code",
   "execution_count": 5,
   "metadata": {},
   "outputs": [],
   "source": [
    "# formatando o banco de dados\n",
    "for i in range(len(listaVideogameSales)):\n",
    "    listaVideogameSales[i]['_id'] = str(listaVideogameSales[i]['_id'])[10:-2]"
   ]
  },
  {
   "cell_type": "markdown",
   "metadata": {},
   "source": [
    "# Salvando o arquivo no MongoDB"
   ]
  },
  {
   "cell_type": "code",
   "execution_count": 6,
   "metadata": {},
   "outputs": [],
   "source": [
    "cliente = MongoClient('mongodb://localhost:27017/') # realizando a conexao"
   ]
  },
  {
   "cell_type": "code",
   "execution_count": 7,
   "metadata": {},
   "outputs": [
    {
     "data": {
      "text/plain": [
       "['Vendas', 'VideoGames', 'admin', 'config', 'local', 'test_database']"
      ]
     },
     "execution_count": 7,
     "metadata": {},
     "output_type": "execute_result"
    }
   ],
   "source": [
    "# verificando se a coneção deu certo \n",
    "cliente.list_database_names()"
   ]
  },
  {
   "cell_type": "code",
   "execution_count": 8,
   "metadata": {},
   "outputs": [],
   "source": [
    "VideoGamesSales  = cliente.VideoGames  # selecionando o banco de dadoss"
   ]
  },
  {
   "cell_type": "code",
   "execution_count": 9,
   "metadata": {},
   "outputs": [],
   "source": [
    "VideoGamesSales_key = VideoGamesSales.test_collection # conjunto de coleções"
   ]
  },
  {
   "cell_type": "code",
   "execution_count": 10,
   "metadata": {},
   "outputs": [
    {
     "data": {
      "text/plain": [
       "<pymongo.results.InsertManyResult at 0x7fc2b8261a40>"
      ]
     },
     "execution_count": 10,
     "metadata": {},
     "output_type": "execute_result"
    }
   ],
   "source": [
    "VideoGamesSales_key.insert_many(listaVideogameSales) # inserindo os dados no banco de dados"
   ]
  },
  {
   "cell_type": "code",
   "execution_count": 11,
   "metadata": {},
   "outputs": [
    {
     "data": {
      "text/plain": [
       "['Vendas', 'VideoGames', 'admin', 'config', 'local', 'test_database']"
      ]
     },
     "execution_count": 11,
     "metadata": {},
     "output_type": "execute_result"
    }
   ],
   "source": [
    "cliente.list_database_names()"
   ]
  },
  {
   "cell_type": "code",
   "execution_count": null,
   "metadata": {},
   "outputs": [],
   "source": []
  }
 ],
 "metadata": {
  "kernelspec": {
   "display_name": "Python 3",
   "language": "python",
   "name": "python3"
  },
  "language_info": {
   "codemirror_mode": {
    "name": "ipython",
    "version": 3
   },
   "file_extension": ".py",
   "mimetype": "text/x-python",
   "name": "python",
   "nbconvert_exporter": "python",
   "pygments_lexer": "ipython3",
   "version": "3.8.3"
  }
 },
 "nbformat": 4,
 "nbformat_minor": 4
}
