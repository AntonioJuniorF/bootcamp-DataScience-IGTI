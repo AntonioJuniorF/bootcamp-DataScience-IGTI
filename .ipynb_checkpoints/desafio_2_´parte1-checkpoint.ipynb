{
 "cells": [
  {
   "cell_type": "code",
   "execution_count": 28,
   "metadata": {},
   "outputs": [],
   "source": [
    "import pandas as pd\n",
    "import numpy as np"
   ]
  },
  {
   "cell_type": "code",
   "execution_count": 3,
   "metadata": {},
   "outputs": [],
   "source": [
    "df = pd.read_json('pessoas.json')"
   ]
  },
  {
   "cell_type": "markdown",
   "metadata": {},
   "source": [
    "# olhando o banco de dados dos exercicios de 1 ao 6"
   ]
  },
  {
   "cell_type": "code",
   "execution_count": 8,
   "metadata": {},
   "outputs": [
    {
     "data": {
      "text/html": [
       "<div>\n",
       "<style scoped>\n",
       "    .dataframe tbody tr th:only-of-type {\n",
       "        vertical-align: middle;\n",
       "    }\n",
       "\n",
       "    .dataframe tbody tr th {\n",
       "        vertical-align: top;\n",
       "    }\n",
       "\n",
       "    .dataframe thead th {\n",
       "        text-align: right;\n",
       "    }\n",
       "</style>\n",
       "<table border=\"1\" class=\"dataframe\">\n",
       "  <thead>\n",
       "    <tr style=\"text-align: right;\">\n",
       "      <th></th>\n",
       "      <th>nome</th>\n",
       "      <th>idade</th>\n",
       "      <th>data_nasc</th>\n",
       "      <th>sexo</th>\n",
       "      <th>signo</th>\n",
       "      <th>cidade</th>\n",
       "      <th>estado</th>\n",
       "      <th>altura</th>\n",
       "      <th>peso</th>\n",
       "      <th>tipo_sanguineo</th>\n",
       "      <th>cor</th>\n",
       "    </tr>\n",
       "  </thead>\n",
       "  <tbody>\n",
       "    <tr>\n",
       "      <th>0</th>\n",
       "      <td>Silvana Hadassa</td>\n",
       "      <td>NaN</td>\n",
       "      <td>12/06/1964</td>\n",
       "      <td>Feminino</td>\n",
       "      <td>Gêmeos</td>\n",
       "      <td>Brasília</td>\n",
       "      <td>DF</td>\n",
       "      <td>1,67</td>\n",
       "      <td>50</td>\n",
       "      <td>A+</td>\n",
       "      <td>vermelho</td>\n",
       "    </tr>\n",
       "    <tr>\n",
       "      <th>1</th>\n",
       "      <td>Thales Kaique</td>\n",
       "      <td>27.0</td>\n",
       "      <td>10/12/1993</td>\n",
       "      <td>Masculino</td>\n",
       "      <td>Sagitário</td>\n",
       "      <td>Campo Grande</td>\n",
       "      <td>MS</td>\n",
       "      <td>1,63</td>\n",
       "      <td>110</td>\n",
       "      <td>B+</td>\n",
       "      <td>laranja</td>\n",
       "    </tr>\n",
       "    <tr>\n",
       "      <th>2</th>\n",
       "      <td>Henry Nathan</td>\n",
       "      <td>29.0</td>\n",
       "      <td>21/09/1991</td>\n",
       "      <td>Masculino</td>\n",
       "      <td>Virgem</td>\n",
       "      <td>Macapá</td>\n",
       "      <td>AP</td>\n",
       "      <td>1,86</td>\n",
       "      <td>106</td>\n",
       "      <td>AB-</td>\n",
       "      <td>verde</td>\n",
       "    </tr>\n",
       "    <tr>\n",
       "      <th>3</th>\n",
       "      <td>Lorenzo Vinicius</td>\n",
       "      <td>64.0</td>\n",
       "      <td>22/10/1956</td>\n",
       "      <td>Masculino</td>\n",
       "      <td>Libra</td>\n",
       "      <td>Contagem</td>\n",
       "      <td>MG</td>\n",
       "      <td>1,87</td>\n",
       "      <td>100</td>\n",
       "      <td>O+</td>\n",
       "      <td>vermelho</td>\n",
       "    </tr>\n",
       "    <tr>\n",
       "      <th>4</th>\n",
       "      <td>Cauã Henrique</td>\n",
       "      <td>50.0</td>\n",
       "      <td>09/03</td>\n",
       "      <td>Masculino</td>\n",
       "      <td>Peixes</td>\n",
       "      <td>Rondonópolis</td>\n",
       "      <td>MT</td>\n",
       "      <td>1,74</td>\n",
       "      <td>83</td>\n",
       "      <td>O-</td>\n",
       "      <td>vermelho</td>\n",
       "    </tr>\n",
       "  </tbody>\n",
       "</table>\n",
       "</div>"
      ],
      "text/plain": [
       "               nome  idade   data_nasc       sexo      signo        cidade  \\\n",
       "0   Silvana Hadassa    NaN  12/06/1964   Feminino     Gêmeos      Brasília   \n",
       "1     Thales Kaique   27.0  10/12/1993  Masculino  Sagitário  Campo Grande   \n",
       "2      Henry Nathan   29.0  21/09/1991  Masculino     Virgem        Macapá   \n",
       "3  Lorenzo Vinicius   64.0  22/10/1956  Masculino      Libra      Contagem   \n",
       "4     Cauã Henrique   50.0       09/03  Masculino     Peixes  Rondonópolis   \n",
       "\n",
       "  estado altura  peso tipo_sanguineo       cor  \n",
       "0     DF   1,67    50             A+  vermelho  \n",
       "1     MS   1,63   110             B+   laranja  \n",
       "2     AP   1,86   106            AB-     verde  \n",
       "3     MG   1,87   100             O+  vermelho  \n",
       "4     MT   1,74    83             O-  vermelho  "
      ]
     },
     "execution_count": 8,
     "metadata": {},
     "output_type": "execute_result"
    }
   ],
   "source": [
    "# Olhando 5 primeilas linhas\n",
    "df.head()"
   ]
  },
  {
   "cell_type": "code",
   "execution_count": 10,
   "metadata": {},
   "outputs": [
    {
     "data": {
      "text/plain": [
       "nome               object\n",
       "idade             float64\n",
       "data_nasc          object\n",
       "sexo               object\n",
       "signo              object\n",
       "cidade             object\n",
       "estado             object\n",
       "altura             object\n",
       "peso                int64\n",
       "tipo_sanguineo     object\n",
       "cor                object\n",
       "dtype: object"
      ]
     },
     "execution_count": 10,
     "metadata": {},
     "output_type": "execute_result"
    }
   ],
   "source": [
    "# olhando o tipo de cada coluna\n",
    "\n",
    "df.dtypes"
   ]
  },
  {
   "cell_type": "code",
   "execution_count": 15,
   "metadata": {},
   "outputs": [
    {
     "data": {
      "text/plain": [
       "nome               0\n",
       "idade             15\n",
       "data_nasc          0\n",
       "sexo               0\n",
       "signo              0\n",
       "cidade             0\n",
       "estado             0\n",
       "altura             0\n",
       "peso               0\n",
       "tipo_sanguineo     0\n",
       "cor                0\n",
       "dtype: int64"
      ]
     },
     "execution_count": 15,
     "metadata": {},
     "output_type": "execute_result"
    }
   ],
   "source": [
    "# dados faltantes\n",
    "df.isnull().sum()"
   ]
  },
  {
   "cell_type": "code",
   "execution_count": 25,
   "metadata": {},
   "outputs": [
    {
     "data": {
      "text/plain": [
       "0    12/06/1964\n",
       "1    10/12/1993\n",
       "2    21/09/1991\n",
       "3    22/10/1956\n",
       "4         09/03\n",
       "Name: data_nasc, dtype: object"
      ]
     },
     "execution_count": 25,
     "metadata": {},
     "output_type": "execute_result"
    }
   ],
   "source": [
    "df['data_nasc'].head()"
   ]
  },
  {
   "cell_type": "raw",
   "metadata": {},
   "source": [
    "a)Como a idade tem 15 dados faltantes vou calcula usa idade pela data de nascimento\n",
    "b)há data de nacimento que não o seu ano, vou corrigir olhando a idadde\n",
    "\n",
    "init I)  antes de tudo vou ver a idade vou ver qual foi o ano que os dados foram adquiridos\n",
    "init II) qual foi a útima data adquirida"
   ]
  },
  {
   "cell_type": "markdown",
   "metadata": {},
   "source": [
    "# respostas"
   ]
  },
  {
   "cell_type": "markdown",
   "metadata": {},
   "source": [
    "### init I)"
   ]
  },
  {
   "cell_type": "code",
   "execution_count": 43,
   "metadata": {},
   "outputs": [],
   "source": [
    "aux = []\n",
    "for i in range(df.shape[0]):\n",
    "    if df['data_nasc'][i][6:] !='':\n",
    "        aux.append(i)"
   ]
  },
  {
   "cell_type": "code",
   "execution_count": 44,
   "metadata": {},
   "outputs": [],
   "source": [
    "aux = np.array(aux)"
   ]
  },
  {
   "cell_type": "code",
   "execution_count": 59,
   "metadata": {},
   "outputs": [],
   "source": [
    "anos = np.zeros(len(aux))\n",
    "for i in range(len(aux)):\n",
    "    anos[i] = int(df['data_nasc'][aux[i]][6:])"
   ]
  },
  {
   "cell_type": "code",
   "execution_count": 67,
   "metadata": {},
   "outputs": [],
   "source": [
    "ano_g = np.unique(df['idade'][aux].values + anos)"
   ]
  },
  {
   "cell_type": "code",
   "execution_count": 72,
   "metadata": {},
   "outputs": [
    {
     "name": "stdout",
     "output_type": "stream",
     "text": [
      "ano que foi gravado os dados  2020\n"
     ]
    }
   ],
   "source": [
    "print('ano que foi gravado os dados ',int(ano_g[np.isnan(ano_g) == 0][0]))"
   ]
  },
  {
   "cell_type": "markdown",
   "metadata": {},
   "source": [
    "### init II)"
   ]
  },
  {
   "cell_type": "code",
   "execution_count": 76,
   "metadata": {},
   "outputs": [
    {
     "name": "stdout",
     "output_type": "stream",
     "text": [
      "data de nacimento da pessoa mais velha 09/10/1942\n"
     ]
    }
   ],
   "source": [
    "print('data de nacimento da pessoa mais velha',df['data_nasc'][np.argmax(df['idade'])])"
   ]
  },
  {
   "cell_type": "markdown",
   "metadata": {},
   "source": [
    "por causa disso vou considera que todos ja fizeram aniversario em 2020"
   ]
  },
  {
   "cell_type": "markdown",
   "metadata": {},
   "source": [
    "# resolvendo a)"
   ]
  },
  {
   "cell_type": "code",
   "execution_count": 97,
   "metadata": {},
   "outputs": [],
   "source": [
    "data_faltante = df['data_nasc'][df['idade'].isnull()]\n",
    "index = data_faltante.index"
   ]
  },
  {
   "cell_type": "code",
   "execution_count": 98,
   "metadata": {},
   "outputs": [],
   "source": [
    "data_faltante.index = np.arange(data_faltante.shape[0])"
   ]
  },
  {
   "cell_type": "code",
   "execution_count": 99,
   "metadata": {},
   "outputs": [],
   "source": [
    "ano_ft = [] \n",
    "for i in range(data_faltante.shape[0]):\n",
    "    ano_ft.append(int(data_faltante[i][6:]))"
   ]
  },
  {
   "cell_type": "code",
   "execution_count": 100,
   "metadata": {},
   "outputs": [],
   "source": [
    "idade_ft = 2020 - np.array(ano_ft)"
   ]
  },
  {
   "cell_type": "code",
   "execution_count": 102,
   "metadata": {},
   "outputs": [
    {
     "name": "stderr",
     "output_type": "stream",
     "text": [
      "<ipython-input-102-926ab9be48f8>:2: SettingWithCopyWarning: \n",
      "A value is trying to be set on a copy of a slice from a DataFrame\n",
      "\n",
      "See the caveats in the documentation: https://pandas.pydata.org/pandas-docs/stable/user_guide/indexing.html#returning-a-view-versus-a-copy\n",
      "  df['idade'][index[i]] = idade_ft[i]\n"
     ]
    }
   ],
   "source": [
    "for i in range(len(index)):\n",
    "    df['idade'][index[i]] = idade_ft[i]"
   ]
  },
  {
   "cell_type": "code",
   "execution_count": 104,
   "metadata": {},
   "outputs": [
    {
     "data": {
      "text/plain": [
       "nome              0\n",
       "idade             0\n",
       "data_nasc         0\n",
       "sexo              0\n",
       "signo             0\n",
       "cidade            0\n",
       "estado            0\n",
       "altura            0\n",
       "peso              0\n",
       "tipo_sanguineo    0\n",
       "cor               0\n",
       "dtype: int64"
      ]
     },
     "execution_count": 104,
     "metadata": {},
     "output_type": "execute_result"
    }
   ],
   "source": [
    "df.isnull().sum()"
   ]
  },
  {
   "cell_type": "markdown",
   "metadata": {},
   "source": [
    "### b)"
   ]
  },
  {
   "cell_type": "code",
   "execution_count": 118,
   "metadata": {},
   "outputs": [],
   "source": [
    "aux = []\n",
    "for i in range(df.shape[0]):\n",
    "    if df['data_nasc'][i][6:] =='':\n",
    "        aux.append(i)"
   ]
  },
  {
   "cell_type": "code",
   "execution_count": 138,
   "metadata": {},
   "outputs": [],
   "source": [
    "aux = np.array(aux)"
   ]
  },
  {
   "cell_type": "code",
   "execution_count": 139,
   "metadata": {},
   "outputs": [],
   "source": [
    "ano = np.array(2020 - df['idade'][aux])"
   ]
  },
  {
   "cell_type": "code",
   "execution_count": 140,
   "metadata": {},
   "outputs": [
    {
     "name": "stderr",
     "output_type": "stream",
     "text": [
      "<ipython-input-140-5d95d2af76cb>:2: SettingWithCopyWarning: \n",
      "A value is trying to be set on a copy of a slice from a DataFrame\n",
      "\n",
      "See the caveats in the documentation: https://pandas.pydata.org/pandas-docs/stable/user_guide/indexing.html#returning-a-view-versus-a-copy\n",
      "  df['data_nasc'][aux[i]] = df['data_nasc'][aux[i]] +'/' + str(int(ano[i]))\n"
     ]
    }
   ],
   "source": [
    "for i in range(len(aux)):\n",
    "    df['data_nasc'][aux[i]] = df['data_nasc'][aux[i]] +'/' + str(int(ano[i]))"
   ]
  },
  {
   "cell_type": "markdown",
   "metadata": {},
   "source": [
    "# respostas do exercicios"
   ]
  },
  {
   "cell_type": "code",
   "execution_count": 142,
   "metadata": {},
   "outputs": [
    {
     "data": {
      "text/plain": [
       "30"
      ]
     },
     "execution_count": 142,
     "metadata": {},
     "output_type": "execute_result"
    }
   ],
   "source": [
    "# resultado do número 1\n",
    "np.sum(df['idade']>=50)"
   ]
  },
  {
   "cell_type": "code",
   "execution_count": 143,
   "metadata": {},
   "outputs": [
    {
     "data": {
      "text/plain": [
       "44.6"
      ]
     },
     "execution_count": 143,
     "metadata": {},
     "output_type": "execute_result"
    }
   ],
   "source": [
    "# resultado do número 2\n",
    "np.mean(df['idade'][df['estado'] == 'MT'])"
   ]
  },
  {
   "cell_type": "code",
   "execution_count": 146,
   "metadata": {},
   "outputs": [],
   "source": [
    "# resultado do número 4\n",
    "anos = np.zeros(df.shape[0])\n",
    "for i in range(len(anos)):\n",
    "    anos[i] = int(df['data_nasc'][i][6:])\n",
    "sum((anos >=1968) & (anos<=1978))"
   ]
  },
  {
   "cell_type": "code",
   "execution_count": 154,
   "metadata": {},
   "outputs": [
    {
     "data": {
      "text/plain": [
       "'Thales Bento'"
      ]
     },
     "execution_count": 154,
     "metadata": {},
     "output_type": "execute_result"
    }
   ],
   "source": [
    "# resultado do número 5\n",
    "df['nome'][np.argmax(df['idade'])]"
   ]
  },
  {
   "cell_type": "code",
   "execution_count": 156,
   "metadata": {},
   "outputs": [
    {
     "data": {
      "text/plain": [
       "'João Pedro'"
      ]
     },
     "execution_count": 156,
     "metadata": {},
     "output_type": "execute_result"
    }
   ],
   "source": [
    "# resultado do número 6\n",
    "df['nome'][np.argmin(df['idade'])]"
   ]
  },
  {
   "cell_type": "code",
   "execution_count": null,
   "metadata": {},
   "outputs": [],
   "source": []
  }
 ],
 "metadata": {
  "kernelspec": {
   "display_name": "Python 3",
   "language": "python",
   "name": "python3"
  },
  "language_info": {
   "codemirror_mode": {
    "name": "ipython",
    "version": 3
   },
   "file_extension": ".py",
   "mimetype": "text/x-python",
   "name": "python",
   "nbconvert_exporter": "python",
   "pygments_lexer": "ipython3",
   "version": "3.8.3"
  }
 },
 "nbformat": 4,
 "nbformat_minor": 4
}
